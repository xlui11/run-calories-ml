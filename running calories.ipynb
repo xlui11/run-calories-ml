{
 "cells": [
  {
   "cell_type": "code",
   "execution_count": 12,
   "metadata": {},
   "outputs": [],
   "source": [
    "import pandas as pd\n",
    "import numpy as np\n",
    "import kaggle\n",
    "from sklearn.linear_model import LinearRegression\n",
    "from sklearn.model_selection import train_test_split\n",
    "import kagglehub\n",
    "from kagglehub import KaggleDatasetAdapter"
   ]
  },
  {
   "cell_type": "code",
   "execution_count": 19,
   "metadata": {},
   "outputs": [
    {
     "name": "stderr",
     "output_type": "stream",
     "text": [
      "/var/folders/2f/9wshy55d7g7c2tt15118w8380000gn/T/ipykernel_80160/381252180.py:2: DeprecationWarning: load_dataset is deprecated and will be removed in a future version.\n",
      "  df = kagglehub.load_dataset(\n"
     ]
    },
    {
     "name": "stdout",
     "output_type": "stream",
     "text": [
      "Downloading from https://www.kaggle.com/api/v1/datasets/download/emin1n/running-calorie-burn-dataset?dataset_version_number=1&file_name=calories_burned_data.csv...\n"
     ]
    },
    {
     "name": "stderr",
     "output_type": "stream",
     "text": [
      "100%|██████████| 8.38k/8.38k [00:00<00:00, 6.90MB/s]\n"
     ]
    }
   ],
   "source": [
    "#Load dataset using kaggle api\n",
    "kaggle.api.authenticate()\n",
    "df = kagglehub.load_dataset(\n",
    "  KaggleDatasetAdapter.PANDAS,\n",
    "  \"emin1n/running-calorie-burn-dataset\", 'calories_burned_data.csv',\n",
    "  # Provide any additional arguments like \n",
    "  # sql_query or pandas_kwargs. See the \n",
    "  # documenation for more information:\n",
    "  # https://github.com/Kaggle/kagglehub/blob/main/README.md#kaggledatasetadapterpandas\n",
    ")\n"
   ]
  },
  {
   "cell_type": "code",
   "execution_count": 23,
   "metadata": {},
   "outputs": [
    {
     "name": "stdout",
     "output_type": "stream",
     "text": [
      "First 5 records:    Gender  Age  Height(cm)  Weight(kg)   BMI  Running Time(min)   \n",
      "0    Male   49         184          74  20.4                 78  \\\n",
      "1  Female   56         182          70  23.2                 98   \n",
      "2    Male   49         170          85  27.4                 91   \n",
      "3    Male   21         181          59  24.0                 89   \n",
      "4    Male   47         172          86  29.8                 79   \n",
      "\n",
      "   Running Speed(km/h)  Distance(km)  Average Heart Rate  Calories Burned  \n",
      "0                  9.5          3.00                 139              973  \n",
      "1                 10.2          5.23                 165              494  \n",
      "2                 10.4          7.61                 134              954  \n",
      "3                 13.4         14.19                 144              570  \n",
      "4                  9.8          3.84                 149              385  \n"
     ]
    }
   ],
   "source": [
    "print(\"First 5 records:\", df.head())"
   ]
  },
  {
   "cell_type": "code",
   "execution_count": null,
   "metadata": {},
   "outputs": [],
   "source": []
  }
 ],
 "metadata": {
  "interpreter": {
   "hash": "aee8b7b246df8f9039afb4144a1f6fd8d2ca17a180786b69acc140d282b71a49"
  },
  "kernelspec": {
   "display_name": "Python 3.10.1 64-bit",
   "language": "python",
   "name": "python3"
  },
  "language_info": {
   "codemirror_mode": {
    "name": "ipython",
    "version": 3
   },
   "file_extension": ".py",
   "mimetype": "text/x-python",
   "name": "python",
   "nbconvert_exporter": "python",
   "pygments_lexer": "ipython3",
   "version": "3.10.1"
  },
  "orig_nbformat": 4
 },
 "nbformat": 4,
 "nbformat_minor": 2
}
