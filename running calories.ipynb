{
 "cells": [
  {
   "cell_type": "code",
   "execution_count": 2,
   "metadata": {},
   "outputs": [],
   "source": [
    "import pandas as pd\n",
    "import numpy as np\n",
    "import kaggle\n",
    "from sklearn.linear_model import LinearRegression\n",
    "from sklearn.model_selection import train_test_split\n",
    "import kagglehub\n",
    "from kagglehub import KaggleDatasetAdapter"
   ]
  },
  {
   "cell_type": "code",
   "execution_count": 3,
   "metadata": {},
   "outputs": [
    {
     "name": "stderr",
     "output_type": "stream",
     "text": [
      "/var/folders/2f/9wshy55d7g7c2tt15118w8380000gn/T/ipykernel_88485/2308971885.py:3: DeprecationWarning: load_dataset is deprecated and will be removed in a future version.\n",
      "  df = kagglehub.load_dataset(\n"
     ]
    }
   ],
   "source": [
    "#Load dataset using kaggle api\n",
    "kaggle.api.authenticate()\n",
    "df = kagglehub.load_dataset(\n",
    "  KaggleDatasetAdapter.PANDAS,\n",
    "  \"emin1n/running-calorie-burn-dataset\", 'calories_burned_data.csv',\n",
    "  # Provide any additional arguments like \n",
    "  # sql_query or pandas_kwargs. See the \n",
    "  # documenation for more information:\n",
    "  # https://github.com/Kaggle/kagglehub/blob/main/README.md#kaggledatasetadapterpandas\n",
    ")\n"
   ]
  },
  {
   "cell_type": "code",
   "execution_count": 7,
   "metadata": {},
   "outputs": [
    {
     "data": {
      "text/plain": [
       "'First 5 records:'"
      ]
     },
     "metadata": {},
     "output_type": "display_data"
    },
    {
     "data": {
      "text/html": [
       "<div>\n",
       "<style scoped>\n",
       "    .dataframe tbody tr th:only-of-type {\n",
       "        vertical-align: middle;\n",
       "    }\n",
       "\n",
       "    .dataframe tbody tr th {\n",
       "        vertical-align: top;\n",
       "    }\n",
       "\n",
       "    .dataframe thead th {\n",
       "        text-align: right;\n",
       "    }\n",
       "</style>\n",
       "<table border=\"1\" class=\"dataframe\">\n",
       "  <thead>\n",
       "    <tr style=\"text-align: right;\">\n",
       "      <th></th>\n",
       "      <th>Gender</th>\n",
       "      <th>Age</th>\n",
       "      <th>Height(cm)</th>\n",
       "      <th>Weight(kg)</th>\n",
       "      <th>BMI</th>\n",
       "      <th>Running Time(min)</th>\n",
       "      <th>Running Speed(km/h)</th>\n",
       "      <th>Distance(km)</th>\n",
       "      <th>Average Heart Rate</th>\n",
       "      <th>Calories Burned</th>\n",
       "    </tr>\n",
       "  </thead>\n",
       "  <tbody>\n",
       "    <tr>\n",
       "      <th>0</th>\n",
       "      <td>Male</td>\n",
       "      <td>49</td>\n",
       "      <td>184</td>\n",
       "      <td>74</td>\n",
       "      <td>20.4</td>\n",
       "      <td>78</td>\n",
       "      <td>9.5</td>\n",
       "      <td>3.00</td>\n",
       "      <td>139</td>\n",
       "      <td>973</td>\n",
       "    </tr>\n",
       "    <tr>\n",
       "      <th>1</th>\n",
       "      <td>Female</td>\n",
       "      <td>56</td>\n",
       "      <td>182</td>\n",
       "      <td>70</td>\n",
       "      <td>23.2</td>\n",
       "      <td>98</td>\n",
       "      <td>10.2</td>\n",
       "      <td>5.23</td>\n",
       "      <td>165</td>\n",
       "      <td>494</td>\n",
       "    </tr>\n",
       "    <tr>\n",
       "      <th>2</th>\n",
       "      <td>Male</td>\n",
       "      <td>49</td>\n",
       "      <td>170</td>\n",
       "      <td>85</td>\n",
       "      <td>27.4</td>\n",
       "      <td>91</td>\n",
       "      <td>10.4</td>\n",
       "      <td>7.61</td>\n",
       "      <td>134</td>\n",
       "      <td>954</td>\n",
       "    </tr>\n",
       "    <tr>\n",
       "      <th>3</th>\n",
       "      <td>Male</td>\n",
       "      <td>21</td>\n",
       "      <td>181</td>\n",
       "      <td>59</td>\n",
       "      <td>24.0</td>\n",
       "      <td>89</td>\n",
       "      <td>13.4</td>\n",
       "      <td>14.19</td>\n",
       "      <td>144</td>\n",
       "      <td>570</td>\n",
       "    </tr>\n",
       "    <tr>\n",
       "      <th>4</th>\n",
       "      <td>Male</td>\n",
       "      <td>47</td>\n",
       "      <td>172</td>\n",
       "      <td>86</td>\n",
       "      <td>29.8</td>\n",
       "      <td>79</td>\n",
       "      <td>9.8</td>\n",
       "      <td>3.84</td>\n",
       "      <td>149</td>\n",
       "      <td>385</td>\n",
       "    </tr>\n",
       "  </tbody>\n",
       "</table>\n",
       "</div>"
      ],
      "text/plain": [
       "   Gender  Age  Height(cm)  Weight(kg)   BMI  Running Time(min)   \n",
       "0    Male   49         184          74  20.4                 78  \\\n",
       "1  Female   56         182          70  23.2                 98   \n",
       "2    Male   49         170          85  27.4                 91   \n",
       "3    Male   21         181          59  24.0                 89   \n",
       "4    Male   47         172          86  29.8                 79   \n",
       "\n",
       "   Running Speed(km/h)  Distance(km)  Average Heart Rate  Calories Burned  \n",
       "0                  9.5          3.00                 139              973  \n",
       "1                 10.2          5.23                 165              494  \n",
       "2                 10.4          7.61                 134              954  \n",
       "3                 13.4         14.19                 144              570  \n",
       "4                  9.8          3.84                 149              385  "
      ]
     },
     "metadata": {},
     "output_type": "display_data"
    }
   ],
   "source": [
    "display(\"First 5 records:\", df.head())"
   ]
  },
  {
   "cell_type": "code",
   "execution_count": null,
   "metadata": {},
   "outputs": [],
   "source": []
  }
 ],
 "metadata": {
  "interpreter": {
   "hash": "aee8b7b246df8f9039afb4144a1f6fd8d2ca17a180786b69acc140d282b71a49"
  },
  "kernelspec": {
   "display_name": "Python 3.10.1 64-bit",
   "language": "python",
   "name": "python3"
  },
  "language_info": {
   "codemirror_mode": {
    "name": "ipython",
    "version": 3
   },
   "file_extension": ".py",
   "mimetype": "text/x-python",
   "name": "python",
   "nbconvert_exporter": "python",
   "pygments_lexer": "ipython3",
   "version": "3.10.1"
  },
  "orig_nbformat": 4
 },
 "nbformat": 4,
 "nbformat_minor": 2
}
